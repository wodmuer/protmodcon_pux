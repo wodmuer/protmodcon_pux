{
 "cells": [
  {
   "cell_type": "markdown",
   "id": "d8c99787-b0e0-45aa-a2c2-cfb1223baf75",
   "metadata": {},
   "source": [
    "# postgres info"
   ]
  },
  {
   "cell_type": "code",
   "execution_count": null,
   "id": "6cee6cb3-38e7-4fdb-ab3f-7f622b6542fe",
   "metadata": {},
   "outputs": [],
   "source": [
    "psql -h localhost -p 5432 -U postgres -d postgres"
   ]
  },
  {
   "cell_type": "markdown",
   "id": "9f13dea3-84d3-4c09-9c53-9f56a1bfb8bb",
   "metadata": {
    "jp-MarkdownHeadingCollapsed": true
   },
   "source": [
    "# get SQL statement"
   ]
  },
  {
   "cell_type": "code",
   "execution_count": null,
   "id": "0cc76526-5c64-4e3e-bf19-b8080cfce38e",
   "metadata": {},
   "outputs": [],
   "source": [
    "table_name = \"protmodcon\"  # Replace with your table name\n",
    "columns = \",\\n  \".join([f\"ADD COLUMN ann{i} text\" for i in range(1, 101)])\n",
    "sql = f\"ALTER TABLE {table_name}\\n  {columns};\"\n",
    "print(sql)"
   ]
  },
  {
   "cell_type": "markdown",
   "id": "0a18a998-5642-4ca2-8f7e-fdeedd2cbab0",
   "metadata": {},
   "source": [
    "# Insert protein_id_position_AA"
   ]
  },
  {
   "cell_type": "code",
   "execution_count": null,
   "id": "daf381ac-72ef-45af-8190-77ee206aeb51",
   "metadata": {},
   "outputs": [],
   "source": [
    "# Create csv on servers\n",
    "import json\n",
    "import pandas as pd\n",
    "\n",
    "# Load your data\n",
    "with open('protein_id_position_AA.json', 'r') as f:\n",
    "    protein_id_position_AA = json.load(f)\n",
    "\n",
    "with open('protein_id_annotation_position.json', 'r') as f:\n",
    "    protein_id_annotation_position = json.load(f)\n",
    "\n",
    "rows = []\n",
    "\n",
    "# From protein_id_position_AA.json (using AA as annotation)\n",
    "for key, aa in protein_id_position_AA.items():\n",
    "    protein_id, position = key.rsplit('_', 1)\n",
    "    rows.append({'protein_id': protein_id, 'position': position, 'annotation': aa})\n",
    "\n",
    "# From protein_id_annotation_position.json (using actual annotation)\n",
    "for protein_id, annotations in protein_id_annotation_position.items():\n",
    "    for annotation, positions in annotations.items():\n",
    "        for position in positions:\n",
    "            rows.append({'protein_id': protein_id, 'position': str(position), 'annotation': annotation})\n",
    "\n",
    "# Optional: Deduplicate\n",
    "df = pd.DataFrame(rows)\n",
    "df = df.drop_duplicates(subset=['protein_id', 'position', 'annotation'])\n",
    "\n",
    "# Export to CSV or use as needed\n",
    "df.to_csv('protmodcon.csv', index=False)\n",
    "print(df.head())"
   ]
  },
  {
   "cell_type": "code",
   "execution_count": 12,
   "id": "7cdbe2bb-d792-41a8-a68c-672120703e9b",
   "metadata": {},
   "outputs": [
    {
     "name": "stderr",
     "output_type": "stream",
     "text": [
      "2025-05-27 10:44:40,026 - INFO - Read 28210695 rows from protmodcon.csv\n",
      "2025-05-27 10:53:49,197 - INFO - Inserted 28210695 rows into PostgreSQL table protmodcon.\n"
     ]
    }
   ],
   "source": [
    "import csv\n",
    "import psycopg2\n",
    "from psycopg2.extras import execute_values\n",
    "import logging\n",
    "\n",
    "# Configure logging\n",
    "logging.basicConfig(level=logging.INFO, format='%(asctime)s - %(levelname)s - %(message)s')\n",
    "logger = logging.getLogger(__name__)\n",
    "\n",
    "# Update these with your actual credentials\n",
    "DB_NAME = \"postgres\"\n",
    "DB_USER = \"postgres\"\n",
    "DB_PASSWORD = \"postgrespassword\"\n",
    "DB_HOST = \"localhost\"\n",
    "CSV_FILE = \"protmodcon.csv\"  # Path to your CSV file\n",
    "\n",
    "def load_csv_to_postgres(csv_file):\n",
    "    # Read CSV\n",
    "    with open(csv_file, newline='', encoding='utf-8') as f:\n",
    "        reader = csv.DictReader(f)\n",
    "        rows = [ (row['protein_id'], row['position'], row['annotation']) for row in reader ]\n",
    "\n",
    "    logger.info(f\"Read {len(rows)} rows from {csv_file}\")\n",
    "\n",
    "    # Connect to PostgreSQL\n",
    "    conn = psycopg2.connect(\n",
    "        dbname=DB_NAME,\n",
    "        user=DB_USER,\n",
    "        password=DB_PASSWORD,\n",
    "        host=DB_HOST\n",
    "    )\n",
    "    cur = conn.cursor()\n",
    "\n",
    "    # Bulk insert\n",
    "    query = \"\"\"\n",
    "        INSERT INTO protmodcon (protein_id, position, annotation)\n",
    "        VALUES %s\n",
    "        ON CONFLICT (protein_id, position, annotation) DO NOTHING\n",
    "    \"\"\"\n",
    "    execute_values(cur, query, rows, page_size=1000)\n",
    "    conn.commit()\n",
    "    cur.close()\n",
    "    conn.close()\n",
    "    logger.info(f\"Inserted {len(rows)} rows into PostgreSQL table protmodcon.\")\n",
    "\n",
    "#if __name__ == \"__main__\":\n",
    "#    load_csv_to_postgres(CSV_FILE)"
   ]
  },
  {
   "cell_type": "code",
   "execution_count": 16,
   "id": "803affc3-2a6e-4842-9432-529339eb4605",
   "metadata": {},
   "outputs": [],
   "source": [
    "pw = '?upHL4O#ROMLfa4Exuqo!hLWrLbr87if'"
   ]
  },
  {
   "cell_type": "code",
   "execution_count": 20,
   "id": "d3ab462a-c077-4991-8931-efae266c5284",
   "metadata": {},
   "outputs": [
    {
     "name": "stderr",
     "output_type": "stream",
     "text": [
      "IOPub data rate exceeded.\n",
      "The Jupyter server will temporarily stop sending output\n",
      "to the client in order to avoid crashing it.\n",
      "To change this limit, set the config variable\n",
      "`--ServerApp.iopub_data_rate_limit`.\n",
      "\n",
      "Current values:\n",
      "ServerApp.iopub_data_rate_limit=1000000.0 (bytes/sec)\n",
      "ServerApp.rate_limit_window=3.0 (secs)\n",
      "\n"
     ]
    },
    {
     "name": "stdout",
     "output_type": "stream",
     "text": [
      "Number of Tyrosine residues that are phosphorylated: 67034\n"
     ]
    }
   ],
   "source": [
    "import requests\n",
    "\n",
    "url = \"http://localhost:8080/v1/graphql\"\n",
    "\n",
    "# Query for Tyrosine (Y)\n",
    "query_tyrosine = '''\n",
    "query {\n",
    "  protmodcon(where: { annotation: { _eq: \"S\" } }) {\n",
    "    protein_id\n",
    "    position\n",
    "  }\n",
    "}\n",
    "'''\n",
    "\n",
    "# Query for Phospho ([21]Phospho)\n",
    "query_phospho = '''\n",
    "query {\n",
    "  protmodcon(where: { annotation: { _eq: \"[21]Phospho\" } }) {\n",
    "    protein_id\n",
    "    position\n",
    "  }\n",
    "}\n",
    "'''\n",
    "\n",
    "headers = {\n",
    "    'x-hasura-admin-secret': pw\n",
    "}\n",
    "\n",
    "def run_query(query):\n",
    "    response = requests.post(url, json={'query': query}, headers=headers)\n",
    "    response.raise_for_status()\n",
    "    print(response.json())\n",
    "    return response.json()['data']['protmodcon']\n",
    "\n",
    "# Fetch both result sets\n",
    "tyrosine_rows = run_query(query_tyrosine)\n",
    "phospho_rows = run_query(query_phospho)\n",
    "\n",
    "# Create sets of (protein_id, position) pairs\n",
    "tyrosine_keys = set((row['protein_id'], row['position']) for row in tyrosine_rows)\n",
    "phospho_keys = set((row['protein_id'], row['position']) for row in phospho_rows)\n",
    "\n",
    "# Compute the intersection\n",
    "intersection = tyrosine_keys & phospho_keys\n",
    "\n",
    "print(f\"Number of Tyrosine residues that are phosphorylated: {len(intersection)}\")"
   ]
  },
  {
   "cell_type": "code",
   "execution_count": null,
   "id": "ced6e0a7-a2f1-4ee6-8a1c-d4d7eeda77a5",
   "metadata": {},
   "outputs": [],
   "source": []
  }
 ],
 "metadata": {
  "kernelspec": {
   "display_name": "structuremap",
   "language": "python",
   "name": "structuremap"
  },
  "language_info": {
   "codemirror_mode": {
    "name": "ipython",
    "version": 3
   },
   "file_extension": ".py",
   "mimetype": "text/x-python",
   "name": "python",
   "nbconvert_exporter": "python",
   "pygments_lexer": "ipython3",
   "version": "3.8.19"
  }
 },
 "nbformat": 4,
 "nbformat_minor": 5
}
