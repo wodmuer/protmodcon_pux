{
 "cells": [
  {
   "cell_type": "code",
   "execution_count": 5,
   "id": "21da49dd-2611-43a1-9872-d08f2677346d",
   "metadata": {},
   "outputs": [],
   "source": [
    "myl = [1, 2, 4]\n"
   ]
  },
  {
   "cell_type": "code",
   "execution_count": 7,
   "id": "02051f4a-140b-4afa-a425-8c0ed4b6c3d9",
   "metadata": {},
   "outputs": [
    {
     "data": {
      "text/plain": [
       "2"
      ]
     },
     "execution_count": 7,
     "metadata": {},
     "output_type": "execute_result"
    }
   ],
   "source": [
    "myl.index(4)"
   ]
  },
  {
   "cell_type": "markdown",
   "id": "d8c99787-b0e0-45aa-a2c2-cfb1223baf75",
   "metadata": {},
   "source": [
    "# info"
   ]
  },
  {
   "cell_type": "code",
   "execution_count": null,
   "id": "6cee6cb3-38e7-4fdb-ab3f-7f622b6542fe",
   "metadata": {},
   "outputs": [],
   "source": [
    "docker compose up -d\n",
    "http://localhost:8080/console\n",
    "psql -h localhost -p 5432 -U postgres -d postgres   "
   ]
  },
  {
   "cell_type": "markdown",
   "id": "92b47bba-ca88-4696-a129-046b6f528bc5",
   "metadata": {},
   "source": [
    "# Create data"
   ]
  },
  {
   "cell_type": "code",
   "execution_count": null,
   "id": "daf381ac-72ef-45af-8190-77ee206aeb51",
   "metadata": {},
   "outputs": [],
   "source": [
    "import json\n",
    "import pandas as pd\n",
    "\n",
    "# Load your data\n",
    "with open('protein_id_annotation_position.json', 'r') as f:\n",
    "    protein_id_annotation_position = json.load(f)\n",
    "\n",
    "rows = []\n",
    "\n",
    "# From protein_id_annotation_position.json (using actual annotation)\n",
    "for protein_id, annotations in protein_id_annotation_position.items():\n",
    "    for annotation, positions in annotations.items():\n",
    "        # Determine annotation_type\n",
    "        if annotation.startswith('['):\n",
    "            annotation_type = 'PTM'\n",
    "        elif annotation in ['A','C','D','E','F','G','H','I','K','L','M','N','P','Q','R','S','T','V','W','Y']:\n",
    "            annotation_type = 'AA'\n",
    "        elif annotation in ['IDR', 'PPII-helix', 'bend', 'turn', 'unassigned', 'ß-bridge', 'ß-strand', 'α-helix', '3₁₀-helix', 'π-helix', 'loop']:\n",
    "            annotation_type = 'sec'\n",
    "        elif annotation.startswith('IPR'):\n",
    "            annotation_type = 'domain'\n",
    "        for position in positions:\n",
    "            rows.append({\n",
    "                'protein_id': protein_id,\n",
    "                'position': str(position),\n",
    "                'annotation': annotation,\n",
    "                'annotation_type': annotation_type\n",
    "            })\n",
    "\n",
    "# Optional: Deduplicate\n",
    "df = pd.DataFrame(rows)\n",
    "df = df.drop_duplicates(subset=['protein_id', 'position', 'annotation', 'annotation_type'])\n",
    "\n",
    "# Export to CSV\n",
    "df.to_csv('protmodcon.csv', index=False)"
   ]
  },
  {
   "cell_type": "code",
   "execution_count": 2,
   "id": "7cdbe2bb-d792-41a8-a68c-672120703e9b",
   "metadata": {},
   "outputs": [
    {
     "name": "stderr",
     "output_type": "stream",
     "text": [
      "2025-05-28 14:26:55,617 - INFO - Read 28210695 rows from protmodcon.csv\n",
      "2025-05-28 14:37:21,425 - INFO - Inserted 28210695 rows into PostgreSQL table protmodcon.\n"
     ]
    }
   ],
   "source": [
    "import csv\n",
    "import psycopg2\n",
    "from psycopg2.extras import execute_values\n",
    "import logging\n",
    "\n",
    "# Configure logging\n",
    "logging.basicConfig(level=logging.INFO, format='%(asctime)s - %(levelname)s - %(message)s')\n",
    "logger = logging.getLogger(__name__)\n",
    "\n",
    "# Update these with your actual credentials\n",
    "DB_NAME = \"postgres\"\n",
    "DB_USER = \"postgres\"\n",
    "DB_PASSWORD = \"postgrespassword\"\n",
    "DB_HOST = \"localhost\"\n",
    "CSV_FILE = \"protmodcon.csv\"  # Path to your CSV file\n",
    "\n",
    "def load_csv_to_postgres(csv_file):\n",
    "    # Read CSV\n",
    "    with open(csv_file, newline='', encoding='utf-8') as f:\n",
    "        reader = csv.DictReader(f)\n",
    "        rows = [\n",
    "            (row['protein_id'], row['position'], row['annotation'], row['annotation_type'])\n",
    "            for row in reader\n",
    "        ]\n",
    "\n",
    "    logger.info(f\"Read {len(rows)} rows from {csv_file}\")\n",
    "\n",
    "    # Connect to PostgreSQL\n",
    "    conn = psycopg2.connect(\n",
    "        dbname=DB_NAME,\n",
    "        user=DB_USER,\n",
    "        password=DB_PASSWORD,\n",
    "        host=DB_HOST\n",
    "    )\n",
    "    cur = conn.cursor()\n",
    "\n",
    "    # Bulk insert\n",
    "    query = \"\"\"\n",
    "        INSERT INTO protmodcon (protein_id, position, annotation, annotation_type)\n",
    "        VALUES %s\n",
    "        ON CONFLICT (protein_id, position, annotation) DO NOTHING\n",
    "    \"\"\"\n",
    "    execute_values(cur, query, rows, page_size=1000)\n",
    "    conn.commit()\n",
    "    cur.close()\n",
    "    conn.close()\n",
    "    logger.info(f\"Inserted {len(rows)} rows into PostgreSQL table protmodcon.\")\n",
    "\n",
    "if __name__ == \"__main__\":\n",
    "    load_csv_to_postgres(CSV_FILE)"
   ]
  },
  {
   "cell_type": "markdown",
   "id": "a12feb3f-6a55-4818-8864-463754720ee6",
   "metadata": {},
   "source": [
    "# Parse database"
   ]
  },
  {
   "cell_type": "code",
   "execution_count": 1,
   "id": "927e6a35-d114-46a6-8e47-d552e507172c",
   "metadata": {},
   "outputs": [
    {
     "name": "stdout",
     "output_type": "stream",
     "text": [
      "MNIRNARPEDLMNMQHCNLLCLPENYQMKYYFYHGLSWPQLSYIAEDENGKIVGYVLAKMEEDPDDVPHGHITSLAVKRSHRRLGLAQKLMDQASRAMIENFNAKYVSLHVRKSNRAALHLYSNTLNFQISEVEPKYYADGEDAYAMKRDLTQMADELRRHLELKEKGRHVVLGAIENKVESKGNSPPSSGEACREEKGLAAEDSGGDSKDLSEVSETTESTDVKDSSEASDSAS\n"
     ]
    }
   ],
   "source": [
    "import requests\n",
    "\n",
    "HASURA_URL = \"http://localhost:8080/v1/graphql\"\n",
    "\n",
    "def fetch_protein_sequence(protein_id, annotation_type):\n",
    "    query = '''\n",
    "    query ($protein_id: String!, $annotation_type: String!) {\n",
    "      protmodcon(\n",
    "        where: {\n",
    "          protein_id: { _eq: $protein_id },\n",
    "          annotation_type: { _eq: $annotation_type }\n",
    "        }\n",
    "      ) {\n",
    "        annotation\n",
    "      }\n",
    "    }\n",
    "    '''\n",
    "    variables = {\n",
    "        \"protein_id\": protein_id,\n",
    "        \"annotation_type\": annotation_type\n",
    "    }\n",
    "    headers = {\"Content-Type\": \"application/json\"}\n",
    "    response = requests.post(\n",
    "        HASURA_URL,\n",
    "        json={\"query\": query, \"variables\": variables},\n",
    "        headers=headers\n",
    "    )\n",
    "    data = response.json()\n",
    "    # Extract and concatenate all annotation values\n",
    "    annotations = [item[\"annotation\"] for item in data[\"data\"][\"protmodcon\"]]\n",
    "    sequence = ''.join(annotations)\n",
    "    return sequence\n",
    "\n",
    "# Example usage:\n",
    "protein_sequence = fetch_protein_sequence(\"P41227\", \"AA\")\n",
    "print(protein_sequence)\n"
   ]
  },
  {
   "cell_type": "markdown",
   "id": "ea0a8caf-a4cb-4750-8715-fc352e15f83e",
   "metadata": {},
   "source": [
    "# FASTA"
   ]
  },
  {
   "cell_type": "code",
   "execution_count": 6,
   "id": "c4dfec14-568d-44f9-be8e-075348d592eb",
   "metadata": {},
   "outputs": [
    {
     "name": "stdout",
     "output_type": "stream",
     "text": [
      "['sp|O00219|HYAS3_HUMAN', 'sp|O00526|UPK2_HUMAN', 'sp|O14656|TOR1A_HUMAN', 'sp|O15027|SC16A_HUMAN', 'sp|O15547|P2RX6_HUMAN', 'sp|O43323|DHH_HUMAN', 'sp|O43889|CREB3_HUMAN', 'sp|O75631|UPK3A_HUMAN', 'sp|O95406|CNIH1_HUMAN', 'sp|O96008|TOM40_HUMAN', 'sp|P00533|EGFR_HUMAN', 'sp|P06340|DOA_HUMAN', 'sp|P07996|TSP1_HUMAN', 'sp|P09038|FGF2_HUMAN', 'sp|P09958|FURIN_HUMAN', 'sp|P10909|CLUS_HUMAN', 'sp|P11801|KPSH1_HUMAN', 'sp|P13569|CFTR_HUMAN', 'sp|P13765|DOB_HUMAN', 'sp|P15515|HIS1_HUMAN', 'sp|P16157|ANK1_HUMAN', 'sp|P16615|AT2A2_HUMAN', 'sp|P17861|XBP1_HUMAN', 'sp|P18850|ATF6A_HUMAN', 'sp|P20309|ACM3_HUMAN', 'sp|P27824|CALX_HUMAN', 'sp|P29590|PML_HUMAN', 'sp|P31415|CASQ1_HUMAN', 'sp|P35638|DDIT3_HUMAN', 'sp|P40967|PMEL_HUMAN', 'sp|P45844|ABCG1_HUMAN', 'sp|P49662|CASP4_HUMAN', 'sp|P51572|BAP31_HUMAN', 'sp|P51610|HCFC1_HUMAN', 'sp|P52292|IMA1_HUMAN', 'sp|P55145|MANF_HUMAN', 'sp|P57088|TMM33_HUMAN', 'sp|P61619|S61A1_HUMAN', 'sp|Q14623|IHH_HUMAN', 'sp|Q15041|AR6P1_HUMAN', 'sp|Q15465|SHH_HUMAN', 'sp|Q15738|NSDHL_HUMAN', 'sp|Q3KR37|ASTRB_HUMAN', 'tr|Q53YD1|Q53YD1_HUMAN', 'sp|Q5BJD5|TM41B_HUMAN', 'sp|Q5SNT2|TM201_HUMAN', 'sp|Q5T7P8|SYT6_HUMAN', 'sp|Q5VTY9|HHAT_HUMAN', 'sp|Q68CJ9|CR3L3_HUMAN', 'sp|Q6UX53|TMT1B_HUMAN', 'sp|Q6UXZ3|CLM5_HUMAN', 'sp|Q70SY1|CR3L2_HUMAN', 'sp|Q7Z403|TMC6_HUMAN', 'sp|Q7Z4N2|TRPM1_HUMAN', 'sp|Q86TL2|STIMA_HUMAN', 'sp|Q8IU68|TMC8_HUMAN', 'sp|Q8IUY3|GRM2A_HUMAN', 'sp|Q8IV08|PLD3_HUMAN', 'sp|Q8IXL6|FA20C_HUMAN', 'sp|Q8N6F1|CLD19_HUMAN', 'sp|Q8NHH9|ATLA2_HUMAN', 'sp|Q8NHP6|MSPD2_HUMAN', 'sp|Q8TEY5|CR3L4_HUMAN', 'sp|Q8WUJ3|CEMIP_HUMAN', 'sp|Q92575|UBXN4_HUMAN', 'sp|Q92819|HYAS2_HUMAN', 'sp|Q95460|HMR1_HUMAN', 'sp|Q969F0|FATE1_HUMAN', 'sp|Q96A70|AZIN2_HUMAN', 'sp|Q96B96|LDAF1_HUMAN', 'sp|Q96BA8|CR3L1_HUMAN', 'sp|Q96BY9|SARAF_HUMAN', 'sp|Q96CP6|ASTRA_HUMAN', 'sp|Q96D31|ORAI1_HUMAN', 'sp|Q96G97|BSCL2_HUMAN', 'sp|Q96LJ7|DHRS1_HUMAN', 'sp|Q96N66|MBOA7_HUMAN', 'sp|Q96S66|CLCC1_HUMAN', 'sp|Q99941|ATF6B_HUMAN', 'sp|Q9BT56|SPXN_HUMAN', 'sp|Q9BUR5|MIC26_HUMAN', 'sp|Q9C0E8|LNP_HUMAN', 'sp|Q9H295|DCSTP_HUMAN', 'sp|Q9H8H3|TMT1A_HUMAN', 'sp|Q9H8Y8|GORS2_HUMAN', 'sp|Q9H9Z2|LN28A_HUMAN', 'sp|Q9HB20|PKHA3_HUMAN', 'sp|Q9NP72|RAB18_HUMAN', 'sp|Q9NP78|ABCB9_HUMAN', 'sp|Q9NQC3|RTN4_HUMAN', 'sp|Q9NR96|TLR9_HUMAN', 'sp|Q9NTJ5|SAC1_HUMAN', 'sp|Q9NV29|TM100_HUMAN', 'sp|Q9P1W3|CSC1_HUMAN', 'sp|Q9UBM1|PEMT_HUMAN', 'sp|Q9UBS4|DJB11_HUMAN', 'sp|Q9UMX0|UBQL1_HUMAN', 'sp|Q9UPI3|FLVC2_HUMAN', 'sp|Q9Y5I7|CLD16_HUMAN', 'sp|Q9Y6D0|SELK_HUMAN', 'sp|Q9Y6I9|TX264_HUMAN', 'sp|Q9Y6M5|ZNT1_HUMAN', 'sp|Q8IWB9|TEX2_HUMAN', 'sp|Q8IYS0|ASTRC_HUMAN', 'sp|Q9BT76|UPK3B_HUMAN']\n"
     ]
    }
   ],
   "source": [
    "from Bio import SeqIO\n",
    "\n",
    "def get_protein_ids(fasta_file):\n",
    "    ids = []\n",
    "    for record in SeqIO.parse(fasta_file, \"fasta\"):\n",
    "        ids.append(record.id)\n",
    "    return ids\n",
    "\n",
    "# Usage\n",
    "protein_ids = get_protein_ids(\"/Users/woutdemuer/Downloads/uniprotkb_organism_id_9606_AND_cc_scl_n_2025_06_04.fasta\")\n",
    "print(protein_ids)\n",
    "\n",
    "# ER proteins -> expect enrichment of glycsoylation"
   ]
  },
  {
   "cell_type": "code",
   "execution_count": null,
   "id": "2663dd8c-a942-4ca8-bffa-c3005ea96b91",
   "metadata": {},
   "outputs": [],
   "source": [
    "protein_ids"
   ]
  }
 ],
 "metadata": {
  "kernelspec": {
   "display_name": "structuremap",
   "language": "python",
   "name": "structuremap"
  },
  "language_info": {
   "codemirror_mode": {
    "name": "ipython",
    "version": 3
   },
   "file_extension": ".py",
   "mimetype": "text/x-python",
   "name": "python",
   "nbconvert_exporter": "python",
   "pygments_lexer": "ipython3",
   "version": "3.8.19"
  }
 },
 "nbformat": 4,
 "nbformat_minor": 5
}
