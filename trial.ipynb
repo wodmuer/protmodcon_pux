{
 "cells": [
  {
   "cell_type": "markdown",
   "id": "d8c99787-b0e0-45aa-a2c2-cfb1223baf75",
   "metadata": {},
   "source": [
    "# info"
   ]
  },
  {
   "cell_type": "code",
   "execution_count": null,
   "id": "6cee6cb3-38e7-4fdb-ab3f-7f622b6542fe",
   "metadata": {},
   "outputs": [],
   "source": [
    "docker compose up -d\n",
    "http://localhost:8080/console\n",
    "psql -h localhost -p 5432 -U postgres -d postgres   "
   ]
  },
  {
   "cell_type": "markdown",
   "id": "92b47bba-ca88-4696-a129-046b6f528bc5",
   "metadata": {},
   "source": [
    "# Create data"
   ]
  },
  {
   "cell_type": "code",
   "execution_count": null,
   "id": "daf381ac-72ef-45af-8190-77ee206aeb51",
   "metadata": {},
   "outputs": [],
   "source": [
    "import json\n",
    "import pandas as pd\n",
    "\n",
    "# Load your data\n",
    "with open('protein_id_annotation_position.json', 'r') as f:\n",
    "    protein_id_annotation_position = json.load(f)\n",
    "\n",
    "rows = []\n",
    "\n",
    "# From protein_id_annotation_position.json (using actual annotation)\n",
    "for protein_id, annotations in protein_id_annotation_position.items():\n",
    "    for annotation, positions in annotations.items():\n",
    "        # Determine annotation_type\n",
    "        if annotation.startswith('['):\n",
    "            annotation_type = 'PTM'\n",
    "        elif annotation in ['A','C','D','E','F','G','H','I','K','L','M','N','P','Q','R','S','T','V','W','Y']:\n",
    "            annotation_type = 'AA'\n",
    "        elif annotation in ['IDR', 'PPII-helix', 'bend', 'turn', 'unassigned', 'ß-bridge', 'ß-strand', 'α-helix', '3₁₀-helix', 'π-helix', 'loop']:\n",
    "            annotation_type = 'sec'\n",
    "        elif annotation.startswith('IPR'):\n",
    "            annotation_type = 'domain'\n",
    "        for position in positions:\n",
    "            rows.append({\n",
    "                'protein_id': protein_id,\n",
    "                'position': str(position),\n",
    "                'annotation': annotation,\n",
    "                'annotation_type': annotation_type\n",
    "            })\n",
    "\n",
    "# Optional: Deduplicate\n",
    "df = pd.DataFrame(rows)\n",
    "df = df.drop_duplicates(subset=['protein_id', 'position', 'annotation', 'annotation_type'])\n",
    "\n",
    "# Export to CSV\n",
    "df.to_csv('protmodcon.csv', index=False)"
   ]
  },
  {
   "cell_type": "code",
   "execution_count": 2,
   "id": "7cdbe2bb-d792-41a8-a68c-672120703e9b",
   "metadata": {},
   "outputs": [
    {
     "name": "stderr",
     "output_type": "stream",
     "text": [
      "2025-05-28 14:26:55,617 - INFO - Read 28210695 rows from protmodcon.csv\n",
      "2025-05-28 14:37:21,425 - INFO - Inserted 28210695 rows into PostgreSQL table protmodcon.\n"
     ]
    }
   ],
   "source": [
    "import csv\n",
    "import psycopg2\n",
    "from psycopg2.extras import execute_values\n",
    "import logging\n",
    "\n",
    "# Configure logging\n",
    "logging.basicConfig(level=logging.INFO, format='%(asctime)s - %(levelname)s - %(message)s')\n",
    "logger = logging.getLogger(__name__)\n",
    "\n",
    "# Update these with your actual credentials\n",
    "DB_NAME = \"postgres\"\n",
    "DB_USER = \"postgres\"\n",
    "DB_PASSWORD = \"postgrespassword\"\n",
    "DB_HOST = \"localhost\"\n",
    "CSV_FILE = \"protmodcon.csv\"  # Path to your CSV file\n",
    "\n",
    "def load_csv_to_postgres(csv_file):\n",
    "    # Read CSV\n",
    "    with open(csv_file, newline='', encoding='utf-8') as f:\n",
    "        reader = csv.DictReader(f)\n",
    "        rows = [\n",
    "            (row['protein_id'], row['position'], row['annotation'], row['annotation_type'])\n",
    "            for row in reader\n",
    "        ]\n",
    "\n",
    "    logger.info(f\"Read {len(rows)} rows from {csv_file}\")\n",
    "\n",
    "    # Connect to PostgreSQL\n",
    "    conn = psycopg2.connect(\n",
    "        dbname=DB_NAME,\n",
    "        user=DB_USER,\n",
    "        password=DB_PASSWORD,\n",
    "        host=DB_HOST\n",
    "    )\n",
    "    cur = conn.cursor()\n",
    "\n",
    "    # Bulk insert\n",
    "    query = \"\"\"\n",
    "        INSERT INTO protmodcon (protein_id, position, annotation, annotation_type)\n",
    "        VALUES %s\n",
    "        ON CONFLICT (protein_id, position, annotation) DO NOTHING\n",
    "    \"\"\"\n",
    "    execute_values(cur, query, rows, page_size=1000)\n",
    "    conn.commit()\n",
    "    cur.close()\n",
    "    conn.close()\n",
    "    logger.info(f\"Inserted {len(rows)} rows into PostgreSQL table protmodcon.\")\n",
    "\n",
    "if __name__ == \"__main__\":\n",
    "    load_csv_to_postgres(CSV_FILE)"
   ]
  },
  {
   "cell_type": "markdown",
   "id": "a12feb3f-6a55-4818-8864-463754720ee6",
   "metadata": {},
   "source": [
    "# Parse database"
   ]
  },
  {
   "cell_type": "code",
   "execution_count": 1,
   "id": "927e6a35-d114-46a6-8e47-d552e507172c",
   "metadata": {},
   "outputs": [
    {
     "name": "stdout",
     "output_type": "stream",
     "text": [
      "MNIRNARPEDLMNMQHCNLLCLPENYQMKYYFYHGLSWPQLSYIAEDENGKIVGYVLAKMEEDPDDVPHGHITSLAVKRSHRRLGLAQKLMDQASRAMIENFNAKYVSLHVRKSNRAALHLYSNTLNFQISEVEPKYYADGEDAYAMKRDLTQMADELRRHLELKEKGRHVVLGAIENKVESKGNSPPSSGEACREEKGLAAEDSGGDSKDLSEVSETTESTDVKDSSEASDSAS\n"
     ]
    }
   ],
   "source": [
    "import requests\n",
    "\n",
    "HASURA_URL = \"http://localhost:8080/v1/graphql\"\n",
    "\n",
    "def fetch_protein_sequence(protein_id, annotation_type):\n",
    "    query = '''\n",
    "    query ($protein_id: String!, $annotation_type: String!) {\n",
    "      protmodcon(\n",
    "        where: {\n",
    "          protein_id: { _eq: $protein_id },\n",
    "          annotation_type: { _eq: $annotation_type }\n",
    "        }\n",
    "      ) {\n",
    "        annotation\n",
    "      }\n",
    "    }\n",
    "    '''\n",
    "    variables = {\n",
    "        \"protein_id\": protein_id,\n",
    "        \"annotation_type\": annotation_type\n",
    "    }\n",
    "    headers = {\"Content-Type\": \"application/json\"}\n",
    "    response = requests.post(\n",
    "        HASURA_URL,\n",
    "        json={\"query\": query, \"variables\": variables},\n",
    "        headers=headers\n",
    "    )\n",
    "    data = response.json()\n",
    "    # Extract and concatenate all annotation values\n",
    "    annotations = [item[\"annotation\"] for item in data[\"data\"][\"protmodcon\"]]\n",
    "    sequence = ''.join(annotations)\n",
    "    return sequence\n",
    "\n",
    "# Example usage:\n",
    "protein_sequence = fetch_protein_sequence(\"P41227\", \"AA\")\n",
    "print(protein_sequence)\n"
   ]
  }
 ],
 "metadata": {
  "kernelspec": {
   "display_name": "structuremap",
   "language": "python",
   "name": "structuremap"
  },
  "language_info": {
   "codemirror_mode": {
    "name": "ipython",
    "version": 3
   },
   "file_extension": ".py",
   "mimetype": "text/x-python",
   "name": "python",
   "nbconvert_exporter": "python",
   "pygments_lexer": "ipython3",
   "version": "3.8.19"
  }
 },
 "nbformat": 4,
 "nbformat_minor": 5
}
